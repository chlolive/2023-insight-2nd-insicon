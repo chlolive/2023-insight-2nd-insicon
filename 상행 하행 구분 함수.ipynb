{
 "cells": [
  {
   "cell_type": "code",
   "execution_count": 2,
   "id": "1999ee4d",
   "metadata": {},
   "outputs": [],
   "source": [
    "from collections import deque\n",
    "\n",
    "# in = 내선순환(1): 왼쪽에서 빼고 오른쪽으로 붙임\n",
    "# out = 외선순환(2): 오른쪽에서 빼고 왼쪽으로 붙임\n",
    "\n",
    "def in_out_tag(start_station, end_station):\n",
    "    \n",
    "    # 2호선 역이 맞는지 확인\n",
    "    station_list = [\n",
    "        '시청', '을지로입구', '을지로3가', '을지로4가', '동대문역사문화공원', '신당', '상왕십리', '왕십리', '한양대',\n",
    "        '뚝섬', '성수', '건대입구', '구의', '강변', '잠실나루', '잠실', '잠실새내', '종합운동장', '삼성', '선릉',\n",
    "        '역삼', '강남', '교대', '서초', '방배', '사당', '낙성대', '서울대입구', '봉천', '신림', '신대방',\n",
    "        '구로디지털단지', '대림', '신도림', '문래', '영등포구청', '당산', '합정', '홍대입구', '신촌', '이대', '아현',\n",
    "        '충정로'\n",
    "    ]\n",
    "\n",
    "    if (start_station not in station_list) or (end_station not in station_list):\n",
    "        return -1\n",
    "\n",
    "    in_dq = deque([\n",
    "        '시청', '을지로입구', '을지로3가', '을지로4가', '동대문역사문화공원', '신당', '상왕십리', '왕십리', '한양대',\n",
    "        '뚝섬', '성수', '건대입구', '구의', '강변', '잠실나루', '잠실', '잠실새내', '종합운동장', '삼성', '선릉',\n",
    "        '역삼', '강남', '교대', '서초', '방배', '사당', '낙성대', '서울대입구', '봉천', '신림', '신대방',\n",
    "        '구로디지털단지', '대림', '신도림', '문래', '영등포구청', '당산', '합정', '홍대입구', '신촌', '이대', '아현',\n",
    "        '충정로'\n",
    "    ])\n",
    "\n",
    "    out_dq = deque([\n",
    "        '시청', '을지로입구', '을지로3가', '을지로4가', '동대문역사문화공원', '신당', '상왕십리', '왕십리', '한양대',\n",
    "        '뚝섬', '성수', '건대입구', '구의', '강변', '잠실나루', '잠실', '잠실새내', '종합운동장', '삼성', '선릉',\n",
    "        '역삼', '강남', '교대', '서초', '방배', '사당', '낙성대', '서울대입구', '봉천', '신림', '신대방',\n",
    "        '구로디지털단지', '대림', '신도림', '문래', '영등포구청', '당산', '합정', '홍대입구', '신촌', '이대', '아현',\n",
    "        '충정로'\n",
    "    ])\n",
    "\n",
    "    in_cnt = 0\n",
    "    out_cnt = 0\n",
    "\n",
    "    # in_cnt 계산\n",
    "\n",
    "    cur = in_dq.popleft()\n",
    "    while (cur != start_station):\n",
    "        in_dq.append(cur)\n",
    "        cur = in_dq.popleft()\n",
    "\n",
    "    while (cur != end_station):\n",
    "        in_dq.append(cur)\n",
    "        cur = in_dq.popleft()\n",
    "        in_cnt = in_cnt + 1\n",
    "\n",
    "    # out_cnt 계산\n",
    "\n",
    "    cur = out_dq.pop()\n",
    "    while (cur != start_station):\n",
    "        out_dq.appendleft(cur)\n",
    "        cur = out_dq.pop()\n",
    "\n",
    "    while (cur != end_station):\n",
    "        out_dq.appendleft(cur)\n",
    "        cur = out_dq.pop()\n",
    "        out_cnt = out_cnt + 1\n",
    "\n",
    "    if (in_cnt <= out_cnt):\n",
    "        return 1\n",
    "    else:\n",
    "        return 2"
   ]
  },
  {
   "cell_type": "code",
   "execution_count": 3,
   "id": "0a3deb4b",
   "metadata": {},
   "outputs": [
    {
     "data": {
      "text/plain": [
       "2"
      ]
     },
     "execution_count": 3,
     "metadata": {},
     "output_type": "execute_result"
    }
   ],
   "source": [
    "# test\n",
    "\n",
    "in_out_tag('신촌', '합정')"
   ]
  },
  {
   "cell_type": "code",
   "execution_count": null,
   "id": "e88f0257",
   "metadata": {},
   "outputs": [],
   "source": []
  }
 ],
 "metadata": {
  "kernelspec": {
   "display_name": "Python 3 (ipykernel)",
   "language": "python",
   "name": "python3"
  },
  "language_info": {
   "codemirror_mode": {
    "name": "ipython",
    "version": 3
   },
   "file_extension": ".py",
   "mimetype": "text/x-python",
   "name": "python",
   "nbconvert_exporter": "python",
   "pygments_lexer": "ipython3",
   "version": "3.11.4"
  },
  "toc": {
   "base_numbering": 1,
   "nav_menu": {},
   "number_sections": true,
   "sideBar": true,
   "skip_h1_title": false,
   "title_cell": "Table of Contents",
   "title_sidebar": "Contents",
   "toc_cell": false,
   "toc_position": {},
   "toc_section_display": true,
   "toc_window_display": false
  }
 },
 "nbformat": 4,
 "nbformat_minor": 5
}
